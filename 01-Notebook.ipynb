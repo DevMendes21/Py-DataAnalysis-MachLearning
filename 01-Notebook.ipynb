{
 "cells": [
  {
   "cell_type": "markdown",
   "id": "4b84fd7f-c216-4879-92fc-dcaf436b4954",
   "metadata": {},
   "source": [
    "# Sessão 1 da aula 1"
   ]
  },
  {
   "cell_type": "code",
   "execution_count": 9,
   "id": "0d49fe2a-269f-4d66-a814-f3b13ce44239",
   "metadata": {},
   "outputs": [],
   "source": [
    "x=2"
   ]
  },
  {
   "cell_type": "code",
   "execution_count": 13,
   "id": "40f1e5a5-b231-4ab3-b21e-ec2943887518",
   "metadata": {},
   "outputs": [],
   "source": [
    "y=3"
   ]
  },
  {
   "cell_type": "code",
   "execution_count": 14,
   "id": "a58c022d-cb50-4c17-8b1f-2967140a984b",
   "metadata": {},
   "outputs": [
    {
     "name": "stdout",
     "output_type": "stream",
     "text": [
      "5\n"
     ]
    }
   ],
   "source": [
    "print(x+y)"
   ]
  },
  {
   "cell_type": "markdown",
   "id": "6ef8fa3a-68ed-44c1-a463-5bb0a676cdcb",
   "metadata": {},
   "source": [
    "# Sessão 2 da aula 1"
   ]
  },
  {
   "cell_type": "code",
   "execution_count": 15,
   "id": "508e2158-cd8b-41b2-808e-4292d121eb83",
   "metadata": {},
   "outputs": [],
   "source": [
    "z=8"
   ]
  },
  {
   "cell_type": "code",
   "execution_count": 16,
   "id": "d5770df1-d81e-4d52-9adf-be76567674d9",
   "metadata": {},
   "outputs": [
    {
     "name": "stdout",
     "output_type": "stream",
     "text": [
      "24\n"
     ]
    }
   ],
   "source": [
    "print(z*y)"
   ]
  }
 ],
 "metadata": {
  "kernelspec": {
   "display_name": "Python 3 (ipykernel)",
   "language": "python",
   "name": "python3"
  },
  "language_info": {
   "codemirror_mode": {
    "name": "ipython",
    "version": 3
   },
   "file_extension": ".py",
   "mimetype": "text/x-python",
   "name": "python",
   "nbconvert_exporter": "python",
   "pygments_lexer": "ipython3",
   "version": "3.12.1"
  }
 },
 "nbformat": 4,
 "nbformat_minor": 5
}
