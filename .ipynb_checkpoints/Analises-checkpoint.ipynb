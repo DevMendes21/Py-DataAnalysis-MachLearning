{
 "cells": [
  {
   "cell_type": "code",
   "execution_count": 1,
   "id": "58dd4e0a-640e-4ed7-9ac2-90072a798881",
   "metadata": {},
   "outputs": [],
   "source": [
    "import pandas as pd"
   ]
  },
  {
   "cell_type": "code",
   "execution_count": 8,
   "id": "34c6bed0-612e-4771-997f-a552a50dc8c3",
   "metadata": {},
   "outputs": [],
   "source": [
    "dfClientes =pd.read_excel('caso_estudo.xlsx', sheet_name='clientes')\n",
    "dfLojas =pd.read_excel('caso_estudo.xlsx', sheet_name='lojas')\n",
    "dfProdutos =pd.read_excel('caso_estudo.xlsx', sheet_name='produtos')\n",
    "dfVendas =pd.read_excel('caso_estudo.xlsx', sheet_name='vendas')\n",
    "dfPagamentoses =pd.read_excel('caso_estudo.xlsx', sheet_name='pagamentos')"
   ]
  },
  {
   "cell_type": "code",
   "execution_count": null,
   "id": "2b0f1683-d359-4f8d-b4ff-a525d171c5fb",
   "metadata": {},
   "outputs": [],
   "source": []
  }
 ],
 "metadata": {
  "kernelspec": {
   "display_name": "Python 3 (ipykernel)",
   "language": "python",
   "name": "python3"
  },
  "language_info": {
   "codemirror_mode": {
    "name": "ipython",
    "version": 3
   },
   "file_extension": ".py",
   "mimetype": "text/x-python",
   "name": "python",
   "nbconvert_exporter": "python",
   "pygments_lexer": "ipython3",
   "version": "3.12.1"
  }
 },
 "nbformat": 4,
 "nbformat_minor": 5
}
