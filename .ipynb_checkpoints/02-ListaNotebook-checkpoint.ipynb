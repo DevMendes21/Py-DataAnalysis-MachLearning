{
 "cells": [
  {
   "cell_type": "code",
   "execution_count": 19,
   "id": "785b91d9-6058-493b-8a5d-0d7310088fbb",
   "metadata": {},
   "outputs": [],
   "source": [
    "nomes = ['Mendes','Primo','Lilice']  # Lista pode sofrer alteração recebe o valor de [ e pode haver adição ou substração de informações.\n",
    "idades = [21,20,19] \n",
    "\n",
    "sexo = ('Masculino', 'Feminino', 'Outros') # Não sofre alteração alguma dentro do codigo.\n",
    "\n",
    "cadastro = {'nomes': nomes, \n",
    "            'idades': idades, \n",
    "            'cidade': ['A','B','C']}"
   ]
  },
  {
   "cell_type": "code",
   "execution_count": 11,
   "id": "e6be6d3f-ce8f-44a9-995b-8952f7c7c373",
   "metadata": {},
   "outputs": [
    {
     "data": {
      "text/plain": [
       "'Mendes'"
      ]
     },
     "execution_count": 11,
     "metadata": {},
     "output_type": "execute_result"
    }
   ],
   "source": [
    "nomes [0]"
   ]
  },
  {
   "cell_type": "code",
   "execution_count": 13,
   "id": "7535c81d-2730-45dd-be1d-00571b503f87",
   "metadata": {},
   "outputs": [
    {
     "data": {
      "text/plain": [
       "'Lilice'"
      ]
     },
     "execution_count": 13,
     "metadata": {},
     "output_type": "execute_result"
    }
   ],
   "source": [
    "nomes [2]"
   ]
  },
  {
   "cell_type": "code",
   "execution_count": 14,
   "id": "1917cd7b-7a34-4a72-b07c-b506594330c1",
   "metadata": {},
   "outputs": [
    {
     "data": {
      "text/plain": [
       "21"
      ]
     },
     "execution_count": 14,
     "metadata": {},
     "output_type": "execute_result"
    }
   ],
   "source": [
    "idades [0]"
   ]
  },
  {
   "cell_type": "code",
   "execution_count": 15,
   "id": "4eb08910-183e-458b-bdcb-f7b85fa96e75",
   "metadata": {},
   "outputs": [
    {
     "data": {
      "text/plain": [
       "'Masculino'"
      ]
     },
     "execution_count": 15,
     "metadata": {},
     "output_type": "execute_result"
    }
   ],
   "source": [
    "sexo[0]"
   ]
  },
  {
   "cell_type": "code",
   "execution_count": 16,
   "id": "4831dc5e-b54b-44cb-ba7a-38eb6c49850c",
   "metadata": {},
   "outputs": [
    {
     "data": {
      "text/plain": [
       "['Mendes', 'Prino', 'Lilice']"
      ]
     },
     "execution_count": 16,
     "metadata": {},
     "output_type": "execute_result"
    }
   ],
   "source": [
    "cadastro['nomes']"
   ]
  },
  {
   "cell_type": "code",
   "execution_count": 20,
   "id": "83436904-33f2-4c21-9f43-17fa8576543b",
   "metadata": {},
   "outputs": [
    {
     "data": {
      "text/plain": [
       "'Primo'"
      ]
     },
     "execution_count": 20,
     "metadata": {},
     "output_type": "execute_result"
    }
   ],
   "source": [
    "cadastro['nomes'][1]"
   ]
  },
  {
   "cell_type": "code",
   "execution_count": 21,
   "id": "bb6e0dcd-e22f-4c7f-ad08-16ae2c28abad",
   "metadata": {},
   "outputs": [
    {
     "data": {
      "text/plain": [
       "60"
      ]
     },
     "execution_count": 21,
     "metadata": {},
     "output_type": "execute_result"
    }
   ],
   "source": [
    "sum(cadastro['idades'])"
   ]
  }
 ],
 "metadata": {
  "kernelspec": {
   "display_name": "Python 3 (ipykernel)",
   "language": "python",
   "name": "python3"
  },
  "language_info": {
   "codemirror_mode": {
    "name": "ipython",
    "version": 3
   },
   "file_extension": ".py",
   "mimetype": "text/x-python",
   "name": "python",
   "nbconvert_exporter": "python",
   "pygments_lexer": "ipython3",
   "version": "3.12.1"
  }
 },
 "nbformat": 4,
 "nbformat_minor": 5
}
