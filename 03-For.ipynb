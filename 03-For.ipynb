{
 "cells": [
  {
   "cell_type": "code",
   "execution_count": 1,
   "id": "22520247-d2d3-4d6f-b621-b921b8496ee5",
   "metadata": {},
   "outputs": [],
   "source": [
    "nomes = ['Mendes','Primo','Lilice']  # Lista pode sofrer alteração recebe o valor de [ e pode haver adição ou substração de informações.\n",
    "idades = [21,20,19] \n",
    "\n",
    "sexo = ('Masculino', 'Feminino', 'Outros') # Não sofre alteração alguma dentro do codigo.\n",
    "\n",
    "cadastro = {'nomes': nomes, \n",
    "            'idades': idades, \n",
    "            'cidade': ['A','B','C']}"
   ]
  },
  {
   "cell_type": "code",
   "execution_count": 2,
   "id": "342a45d9-2aaf-475e-933c-c7f503f81cc5",
   "metadata": {},
   "outputs": [
    {
     "name": "stdout",
     "output_type": "stream",
     "text": [
      "Mendes\n",
      "Primo\n",
      "Lilice\n"
     ]
    }
   ],
   "source": [
    "for nome in nomes:\n",
    "    print(nome)"
   ]
  },
  {
   "cell_type": "code",
   "execution_count": 4,
   "id": "5cbba752-927e-40e7-87d3-8fa2a0908543",
   "metadata": {},
   "outputs": [
    {
     "name": "stdout",
     "output_type": "stream",
     "text": [
      "21\n",
      "20\n",
      "19\n"
     ]
    }
   ],
   "source": [
    "for idade in idades:\n",
    "    print(idade)"
   ]
  },
  {
   "cell_type": "code",
   "execution_count": 7,
   "id": "6103967b-0610-4e8d-ba3e-e3bd3ce3bee4",
   "metadata": {},
   "outputs": [
    {
     "name": "stdout",
     "output_type": "stream",
     "text": [
      "20\n"
     ]
    }
   ],
   "source": [
    "for idade in idades:\n",
    "    if idade%2==0:\n",
    "        print(idade)"
   ]
  },
  {
   "cell_type": "code",
   "execution_count": 12,
   "id": "55104c6a-1ea8-4f42-9399-b4744b1802fc",
   "metadata": {},
   "outputs": [
    {
     "name": "stdout",
     "output_type": "stream",
     "text": [
      "0\n",
      "1\n",
      "2\n"
     ]
    }
   ],
   "source": [
    "for i in range(0,3):\n",
    "    print(i)"
   ]
  },
  {
   "cell_type": "code",
   "execution_count": 25,
   "id": "aad77472-7ba1-415f-8620-ec39b6a998b1",
   "metadata": {},
   "outputs": [
    {
     "name": "stdout",
     "output_type": "stream",
     "text": [
      "21\n",
      "20\n"
     ]
    }
   ],
   "source": [
    "i = 0\n",
    "idade = idades[i]\n",
    "while idade >= 20:\n",
    "    print(idade)\n",
    "    i += 1\n",
    "    idade = idades[i]"
   ]
  }
 ],
 "metadata": {
  "kernelspec": {
   "display_name": "Python 3 (ipykernel)",
   "language": "python",
   "name": "python3"
  },
  "language_info": {
   "codemirror_mode": {
    "name": "ipython",
    "version": 3
   },
   "file_extension": ".py",
   "mimetype": "text/x-python",
   "name": "python",
   "nbconvert_exporter": "python",
   "pygments_lexer": "ipython3",
   "version": "3.12.1"
  }
 },
 "nbformat": 4,
 "nbformat_minor": 5
}
