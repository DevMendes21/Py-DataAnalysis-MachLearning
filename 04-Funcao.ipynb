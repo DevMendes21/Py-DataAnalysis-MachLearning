{
 "cells": [
  {
   "cell_type": "code",
   "execution_count": 1,
   "id": "a2655a56-df33-4833-8633-bd69a9927ce0",
   "metadata": {},
   "outputs": [],
   "source": [
    "import MinhaFuncao as mf"
   ]
  },
  {
   "cell_type": "code",
   "execution_count": 3,
   "id": "793b394c-0ec8-4833-af32-93995da18fdc",
   "metadata": {},
   "outputs": [
    {
     "data": {
      "text/plain": [
       "'criança'"
      ]
     },
     "execution_count": 3,
     "metadata": {},
     "output_type": "execute_result"
    }
   ],
   "source": [
    "mf.faixaIdade(10)"
   ]
  },
  {
   "cell_type": "code",
   "execution_count": 4,
   "id": "f4126d43-b648-4d1b-94d3-c9894a0e45d2",
   "metadata": {},
   "outputs": [
    {
     "data": {
      "text/plain": [
       "'adulto'"
      ]
     },
     "execution_count": 4,
     "metadata": {},
     "output_type": "execute_result"
    }
   ],
   "source": [
    "mf.faixaIdade(20)"
   ]
  },
  {
   "cell_type": "code",
   "execution_count": 6,
   "id": "0cb0e1dd-0ef5-4385-87fd-38061db859d7",
   "metadata": {},
   "outputs": [
    {
     "data": {
      "text/plain": [
       "'adolescente'"
      ]
     },
     "execution_count": 6,
     "metadata": {},
     "output_type": "execute_result"
    }
   ],
   "source": [
    "mf.faixaIdade(17)"
   ]
  },
  {
   "cell_type": "code",
   "execution_count": 2,
   "id": "4790c44f-c937-439c-958f-3029204837bb",
   "metadata": {},
   "outputs": [
    {
     "data": {
      "text/plain": [
       "13"
      ]
     },
     "execution_count": 2,
     "metadata": {},
     "output_type": "execute_result"
    }
   ],
   "source": [
    "mf.somaQuad(3,2)"
   ]
  }
 ],
 "metadata": {
  "kernelspec": {
   "display_name": "Python 3 (ipykernel)",
   "language": "python",
   "name": "python3"
  },
  "language_info": {
   "codemirror_mode": {
    "name": "ipython",
    "version": 3
   },
   "file_extension": ".py",
   "mimetype": "text/x-python",
   "name": "python",
   "nbconvert_exporter": "python",
   "pygments_lexer": "ipython3",
   "version": "3.12.1"
  }
 },
 "nbformat": 4,
 "nbformat_minor": 5
}
